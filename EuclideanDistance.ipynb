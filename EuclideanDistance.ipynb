{
 "cells": [
  {
   "cell_type": "code",
   "execution_count": 34,
   "id": "df8dc4a0-b2e1-491c-bf70-a5b93c94af45",
   "metadata": {},
   "outputs": [
    {
     "name": "stdout",
     "output_type": "stream",
     "text": [
      "Minimum Mesafe: 3.1622776601683795\n"
     ]
    }
   ],
   "source": [
    "# Noktaların Tanımlanması:\n",
    "\n",
    "points = [\n",
    "    (1,2),  # 1. nokta\n",
    "    (4,3),  # 2. nokta\n",
    "    (5,9),  # 3. nokta\n",
    "    (10,7)   # 4. nokta\n",
    "]\n",
    "\n",
    "\n",
    "\n",
    "# Öklid mesafesi için bir fonksiyon yazma:\n",
    "\n",
    "def euclideanDistance(x1,y1,x2,y2):\n",
    "    x_diff = (x2 - x1) ** 2  # x farkının karesi\n",
    "    y_diff = (y2 - y1) ** 2  # y farkının karesi\n",
    "    distance = (x_diff + y_diff) ** 0.5  # Karekök alıyoruz\n",
    "    return distance\n",
    "    \n",
    "    \n",
    "\n",
    "# Tüm mesafelerin değerini koyacağımız boş bir liste:\n",
    "\n",
    "distances = []\n",
    "\n",
    "# Bütün noktalara bakarak mesafeleri hesaplayalım\n",
    "for i in range(len(points)):\n",
    "    for j in range(i + 1, len(points)):\n",
    "        x1, y1 = points[i]\n",
    "        x2, y2 = points[j]\n",
    "\n",
    "        # Fonksiyonu kullanarak mesafeyi hesaplıyoruz\n",
    "        distance = euclideanDistance(x1, y1, x2, y2)\n",
    "\n",
    "        # Mesafeyi listeye ekliyoruz\n",
    "        distances.append(distance)\n",
    "\n",
    "# Minimum Mesafenin Bulunması:\n",
    "\n",
    "# Minimum mesafeyi bulalım\n",
    "min_distance = min(distances)  # Mesafelerin en küçüğünü bul\n",
    "\n",
    "print(\"Minimum Mesafe:\", min_distance)  # Ekrana yazdır"
   ]
  },
  {
   "cell_type": "code",
   "execution_count": null,
   "id": "95ff0d7b-bc10-43fc-bc0c-0af6ff2062d8",
   "metadata": {},
   "outputs": [],
   "source": []
  }
 ],
 "metadata": {
  "kernelspec": {
   "display_name": "Python 3 (ipykernel)",
   "language": "python",
   "name": "python3"
  },
  "language_info": {
   "codemirror_mode": {
    "name": "ipython",
    "version": 3
   },
   "file_extension": ".py",
   "mimetype": "text/x-python",
   "name": "python",
   "nbconvert_exporter": "python",
   "pygments_lexer": "ipython3",
   "version": "3.11.7"
  }
 },
 "nbformat": 4,
 "nbformat_minor": 5
}
